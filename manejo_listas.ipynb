{
  "nbformat": 4,
  "nbformat_minor": 0,
  "metadata": {
    "colab": {
      "provenance": [],
      "include_colab_link": true
    },
    "kernelspec": {
      "display_name": "Python 3",
      "language": "python",
      "name": "python3"
    },
    "language_info": {
      "codemirror_mode": {
        "name": "ipython",
        "version": 3
      },
      "file_extension": ".py",
      "mimetype": "text/x-python",
      "name": "python",
      "nbconvert_exporter": "python",
      "pygments_lexer": "ipython3",
      "version": "3.7.4"
    }
  },
  "cells": [
    {
      "cell_type": "markdown",
      "metadata": {
        "id": "view-in-github",
        "colab_type": "text"
      },
      "source": [
        "<a href=\"https://colab.research.google.com/github/pablomoriv9830/python_para_todos/blob/main/manejo_listas.ipynb\" target=\"_parent\"><img src=\"https://colab.research.google.com/assets/colab-badge.svg\" alt=\"Open In Colab\"/></a>"
      ]
    },
    {
      "cell_type": "markdown",
      "metadata": {
        "id": "Z0D1aWhDIOll"
      },
      "source": [
        "# Datahack - Listas"
      ]
    },
    {
      "cell_type": "markdown",
      "metadata": {
        "id": "VHbJJLkbZ5dn"
      },
      "source": [
        "# Listas"
      ]
    },
    {
      "cell_type": "code",
      "metadata": {
        "id": "YyEH6KyDcaIo"
      },
      "source": [
        "lista = [3, 3.1416, \"Manuel\", True]"
      ],
      "execution_count": 1,
      "outputs": []
    },
    {
      "cell_type": "code",
      "metadata": {
        "id": "taE7P9r3cZ_3",
        "colab": {
          "base_uri": "https://localhost:8080/"
        },
        "outputId": "22840226-a4e3-48e4-dba4-ff7a24a59ddd"
      },
      "source": [
        "lista"
      ],
      "execution_count": 2,
      "outputs": [
        {
          "output_type": "execute_result",
          "data": {
            "text/plain": [
              "[3, 3.1416, 'Manuel', True]"
            ]
          },
          "metadata": {},
          "execution_count": 2
        }
      ]
    },
    {
      "cell_type": "code",
      "metadata": {
        "id": "gN2UAu8McZ4u",
        "colab": {
          "base_uri": "https://localhost:8080/"
        },
        "outputId": "9bb8748c-f81f-4049-e202-57baf63db9c5"
      },
      "source": [
        "lista[0]"
      ],
      "execution_count": 3,
      "outputs": [
        {
          "output_type": "execute_result",
          "data": {
            "text/plain": [
              "3"
            ]
          },
          "metadata": {},
          "execution_count": 3
        }
      ]
    },
    {
      "cell_type": "code",
      "metadata": {
        "id": "DkVSAFN5cZ0c",
        "colab": {
          "base_uri": "https://localhost:8080/"
        },
        "outputId": "3c5df8b1-c68e-4b2c-b8b9-278b7833b244"
      },
      "source": [
        "lista[1]"
      ],
      "execution_count": 4,
      "outputs": [
        {
          "output_type": "execute_result",
          "data": {
            "text/plain": [
              "3.1416"
            ]
          },
          "metadata": {},
          "execution_count": 4
        }
      ]
    },
    {
      "cell_type": "code",
      "metadata": {
        "id": "jrgjnFB_cZzM",
        "colab": {
          "base_uri": "https://localhost:8080/",
          "height": 35
        },
        "outputId": "51f291c9-2457-417a-b907-f8ccf84a40d0"
      },
      "source": [
        "lista[2]"
      ],
      "execution_count": 5,
      "outputs": [
        {
          "output_type": "execute_result",
          "data": {
            "text/plain": [
              "'Manuel'"
            ],
            "application/vnd.google.colaboratory.intrinsic+json": {
              "type": "string"
            }
          },
          "metadata": {},
          "execution_count": 5
        }
      ]
    },
    {
      "cell_type": "code",
      "metadata": {
        "id": "scCrgc9icZsN",
        "colab": {
          "base_uri": "https://localhost:8080/"
        },
        "outputId": "80fd44eb-224a-4926-868e-7975b658239e"
      },
      "source": [
        "lista[3]"
      ],
      "execution_count": 6,
      "outputs": [
        {
          "output_type": "execute_result",
          "data": {
            "text/plain": [
              "True"
            ]
          },
          "metadata": {},
          "execution_count": 6
        }
      ]
    },
    {
      "cell_type": "code",
      "metadata": {
        "id": "GckeuI-LcZlC",
        "colab": {
          "base_uri": "https://localhost:8080/"
        },
        "outputId": "fd19ff46-6b72-4fc5-b22c-ba82593bfc44"
      },
      "source": [
        "lista[-1]"
      ],
      "execution_count": 7,
      "outputs": [
        {
          "output_type": "execute_result",
          "data": {
            "text/plain": [
              "True"
            ]
          },
          "metadata": {},
          "execution_count": 7
        }
      ]
    },
    {
      "cell_type": "code",
      "metadata": {
        "id": "LAKkXODccZjt",
        "colab": {
          "base_uri": "https://localhost:8080/",
          "height": 35
        },
        "outputId": "70c0dbdc-fda0-4868-8ee5-8d7ea038b8f8"
      },
      "source": [
        "lista[-2]"
      ],
      "execution_count": 8,
      "outputs": [
        {
          "output_type": "execute_result",
          "data": {
            "text/plain": [
              "'Manuel'"
            ],
            "application/vnd.google.colaboratory.intrinsic+json": {
              "type": "string"
            }
          },
          "metadata": {},
          "execution_count": 8
        }
      ]
    },
    {
      "cell_type": "code",
      "metadata": {
        "id": "Fd4veUgQcZfW",
        "colab": {
          "base_uri": "https://localhost:8080/",
          "height": 141
        },
        "outputId": "1e09f50d-de37-4462-9a00-4d18c4ea54b0"
      },
      "source": [
        "lista[-5]"
      ],
      "execution_count": 9,
      "outputs": [
        {
          "output_type": "error",
          "ename": "IndexError",
          "evalue": "list index out of range",
          "traceback": [
            "\u001b[0;31m---------------------------------------------------------------------------\u001b[0m",
            "\u001b[0;31mIndexError\u001b[0m                                Traceback (most recent call last)",
            "\u001b[0;32m/tmp/ipython-input-1425877893.py\u001b[0m in \u001b[0;36m<cell line: 0>\u001b[0;34m()\u001b[0m\n\u001b[0;32m----> 1\u001b[0;31m \u001b[0mlista\u001b[0m\u001b[0;34m[\u001b[0m\u001b[0;34m-\u001b[0m\u001b[0;36m5\u001b[0m\u001b[0;34m]\u001b[0m\u001b[0;34m\u001b[0m\u001b[0;34m\u001b[0m\u001b[0m\n\u001b[0m",
            "\u001b[0;31mIndexError\u001b[0m: list index out of range"
          ]
        }
      ]
    },
    {
      "cell_type": "markdown",
      "metadata": {
        "id": "G6w_7A_IcZeD"
      },
      "source": [
        "# Slicing de listas"
      ]
    },
    {
      "cell_type": "code",
      "metadata": {
        "id": "1dYQkKsDcZZu"
      },
      "source": [
        "lista = [10, 20, 30, 40, 50, 60, 70, 80, 90, 100]"
      ],
      "execution_count": 10,
      "outputs": []
    },
    {
      "cell_type": "code",
      "metadata": {
        "id": "kpZc5gFMcZW0",
        "colab": {
          "base_uri": "https://localhost:8080/"
        },
        "outputId": "d8b8ede4-ed23-4660-d089-30a4aaa8ed44"
      },
      "source": [
        "lista[2:7]"
      ],
      "execution_count": 11,
      "outputs": [
        {
          "output_type": "execute_result",
          "data": {
            "text/plain": [
              "[30, 40, 50, 60, 70]"
            ]
          },
          "metadata": {},
          "execution_count": 11
        }
      ]
    },
    {
      "cell_type": "code",
      "metadata": {
        "id": "nVxyjBDicZNu",
        "colab": {
          "base_uri": "https://localhost:8080/"
        },
        "outputId": "4135a4fa-255b-4edc-bd4d-2b6df17a56cf"
      },
      "source": [
        "lista[2:-2]"
      ],
      "execution_count": 12,
      "outputs": [
        {
          "output_type": "execute_result",
          "data": {
            "text/plain": [
              "[30, 40, 50, 60, 70, 80]"
            ]
          },
          "metadata": {},
          "execution_count": 12
        }
      ]
    },
    {
      "cell_type": "code",
      "metadata": {
        "id": "SRFr5h69fcsX"
      },
      "source": [
        "a = lista[2:-2]"
      ],
      "execution_count": 13,
      "outputs": []
    },
    {
      "cell_type": "code",
      "metadata": {
        "id": "0GvUDHFqfck1",
        "colab": {
          "base_uri": "https://localhost:8080/"
        },
        "outputId": "004150f1-a57b-43d6-e53d-92235e7c997f"
      },
      "source": [
        "type(a)"
      ],
      "execution_count": 14,
      "outputs": [
        {
          "output_type": "execute_result",
          "data": {
            "text/plain": [
              "list"
            ]
          },
          "metadata": {},
          "execution_count": 14
        }
      ]
    },
    {
      "cell_type": "markdown",
      "metadata": {
        "id": "9OEVZ4DYLsJP"
      },
      "source": [
        "# Slicing de listas II"
      ]
    },
    {
      "cell_type": "code",
      "metadata": {
        "id": "r9oaMIrcLsAR"
      },
      "source": [
        "lista = [10, 20, 30, 40, 50, 60, 70, 80, 90, 100]"
      ],
      "execution_count": 15,
      "outputs": []
    },
    {
      "cell_type": "code",
      "metadata": {
        "id": "P_Df97M4MiBc",
        "colab": {
          "base_uri": "https://localhost:8080/"
        },
        "outputId": "0e57c930-9f8a-451c-88fd-3127d377f4b1"
      },
      "source": [
        "lista[2:8]"
      ],
      "execution_count": 16,
      "outputs": [
        {
          "output_type": "execute_result",
          "data": {
            "text/plain": [
              "[30, 40, 50, 60, 70, 80]"
            ]
          },
          "metadata": {},
          "execution_count": 16
        }
      ]
    },
    {
      "cell_type": "code",
      "metadata": {
        "id": "Eh2XRO2eMh6X",
        "colab": {
          "base_uri": "https://localhost:8080/"
        },
        "outputId": "6427f4a4-4318-4ec0-b62b-5a41d91a5de2"
      },
      "source": [
        "lista[2:8:2]"
      ],
      "execution_count": 17,
      "outputs": [
        {
          "output_type": "execute_result",
          "data": {
            "text/plain": [
              "[30, 50, 70]"
            ]
          },
          "metadata": {},
          "execution_count": 17
        }
      ]
    },
    {
      "cell_type": "code",
      "metadata": {
        "id": "INMIsbhHMhzL",
        "colab": {
          "base_uri": "https://localhost:8080/"
        },
        "outputId": "364b3a49-94af-4b30-d701-a793e2dcde23"
      },
      "source": [
        "lista[2::3]"
      ],
      "execution_count": 18,
      "outputs": [
        {
          "output_type": "execute_result",
          "data": {
            "text/plain": [
              "[30, 60, 90]"
            ]
          },
          "metadata": {},
          "execution_count": 18
        }
      ]
    },
    {
      "cell_type": "code",
      "metadata": {
        "id": "Ams00_i6Mhsb",
        "colab": {
          "base_uri": "https://localhost:8080/"
        },
        "outputId": "447403bf-4d7d-4aa9-ee8f-304d5edc59c2"
      },
      "source": [
        "lista[::-1]"
      ],
      "execution_count": 19,
      "outputs": [
        {
          "output_type": "execute_result",
          "data": {
            "text/plain": [
              "[100, 90, 80, 70, 60, 50, 40, 30, 20, 10]"
            ]
          },
          "metadata": {},
          "execution_count": 19
        }
      ]
    },
    {
      "cell_type": "code",
      "metadata": {
        "id": "3PnlRI1NMhqT",
        "colab": {
          "base_uri": "https://localhost:8080/"
        },
        "outputId": "74103c71-5354-4b37-d9fa-a2f1fd6b3158"
      },
      "source": [
        "lista[::-2]"
      ],
      "execution_count": 20,
      "outputs": [
        {
          "output_type": "execute_result",
          "data": {
            "text/plain": [
              "[100, 80, 60, 40, 20]"
            ]
          },
          "metadata": {},
          "execution_count": 20
        }
      ]
    },
    {
      "cell_type": "markdown",
      "metadata": {
        "id": "e-MQLTJ3fceC"
      },
      "source": [
        "# Operaciones con listas"
      ]
    },
    {
      "cell_type": "code",
      "metadata": {
        "id": "LLoXllhMiUHY"
      },
      "source": [
        "lista = [10, 20, 30, 40, 50, 60, 70, 80, 90, 100]\n",
        "lista2 = [1,2,3,4,5]"
      ],
      "execution_count": 21,
      "outputs": []
    },
    {
      "cell_type": "code",
      "metadata": {
        "id": "ZbdovW2diP-a",
        "colab": {
          "base_uri": "https://localhost:8080/"
        },
        "outputId": "212e5320-92a2-487d-f3d4-66d334ac6fd0"
      },
      "source": [
        "lista + lista2"
      ],
      "execution_count": 22,
      "outputs": [
        {
          "output_type": "execute_result",
          "data": {
            "text/plain": [
              "[10, 20, 30, 40, 50, 60, 70, 80, 90, 100, 1, 2, 3, 4, 5]"
            ]
          },
          "metadata": {},
          "execution_count": 22
        }
      ]
    },
    {
      "cell_type": "code",
      "metadata": {
        "id": "uJETs79viP3Q",
        "colab": {
          "base_uri": "https://localhost:8080/"
        },
        "outputId": "2794e280-5335-46ac-f83d-f75372410a3f"
      },
      "source": [
        "lista2 + lista"
      ],
      "execution_count": 23,
      "outputs": [
        {
          "output_type": "execute_result",
          "data": {
            "text/plain": [
              "[1, 2, 3, 4, 5, 10, 20, 30, 40, 50, 60, 70, 80, 90, 100]"
            ]
          },
          "metadata": {},
          "execution_count": 23
        }
      ]
    },
    {
      "cell_type": "code",
      "metadata": {
        "id": "y0HmgVFJiPq5",
        "colab": {
          "base_uri": "https://localhost:8080/"
        },
        "outputId": "0eba918b-863d-4d60-8930-09635c26bfa0"
      },
      "source": [
        "lista2 * 5"
      ],
      "execution_count": 24,
      "outputs": [
        {
          "output_type": "execute_result",
          "data": {
            "text/plain": [
              "[1, 2, 3, 4, 5, 1, 2, 3, 4, 5, 1, 2, 3, 4, 5, 1, 2, 3, 4, 5, 1, 2, 3, 4, 5]"
            ]
          },
          "metadata": {},
          "execution_count": 24
        }
      ]
    },
    {
      "cell_type": "code",
      "metadata": {
        "id": "mofxFwMhi4h0",
        "colab": {
          "base_uri": "https://localhost:8080/",
          "height": 141
        },
        "outputId": "b21bcb9d-5b8a-4057-c155-1c84cb663233"
      },
      "source": [
        "lista * lista2"
      ],
      "execution_count": 25,
      "outputs": [
        {
          "output_type": "error",
          "ename": "TypeError",
          "evalue": "can't multiply sequence by non-int of type 'list'",
          "traceback": [
            "\u001b[0;31m---------------------------------------------------------------------------\u001b[0m",
            "\u001b[0;31mTypeError\u001b[0m                                 Traceback (most recent call last)",
            "\u001b[0;32m/tmp/ipython-input-2803483446.py\u001b[0m in \u001b[0;36m<cell line: 0>\u001b[0;34m()\u001b[0m\n\u001b[0;32m----> 1\u001b[0;31m \u001b[0mlista\u001b[0m \u001b[0;34m*\u001b[0m \u001b[0mlista2\u001b[0m\u001b[0;34m\u001b[0m\u001b[0;34m\u001b[0m\u001b[0m\n\u001b[0m",
            "\u001b[0;31mTypeError\u001b[0m: can't multiply sequence by non-int of type 'list'"
          ]
        }
      ]
    },
    {
      "cell_type": "code",
      "metadata": {
        "id": "BB4v8moufcY7",
        "colab": {
          "base_uri": "https://localhost:8080/",
          "height": 141
        },
        "outputId": "39c37430-f0cd-41b2-cdeb-366fe66e106d"
      },
      "source": [
        "lista2 / 5"
      ],
      "execution_count": 26,
      "outputs": [
        {
          "output_type": "error",
          "ename": "TypeError",
          "evalue": "unsupported operand type(s) for /: 'list' and 'int'",
          "traceback": [
            "\u001b[0;31m---------------------------------------------------------------------------\u001b[0m",
            "\u001b[0;31mTypeError\u001b[0m                                 Traceback (most recent call last)",
            "\u001b[0;32m/tmp/ipython-input-2975676615.py\u001b[0m in \u001b[0;36m<cell line: 0>\u001b[0;34m()\u001b[0m\n\u001b[0;32m----> 1\u001b[0;31m \u001b[0mlista2\u001b[0m \u001b[0;34m/\u001b[0m \u001b[0;36m5\u001b[0m\u001b[0;34m\u001b[0m\u001b[0;34m\u001b[0m\u001b[0m\n\u001b[0m",
            "\u001b[0;31mTypeError\u001b[0m: unsupported operand type(s) for /: 'list' and 'int'"
          ]
        }
      ]
    },
    {
      "cell_type": "markdown",
      "metadata": {
        "id": "Xi-CbHg8fcXU"
      },
      "source": [
        "# len, append, insert, pop, remove"
      ]
    },
    {
      "cell_type": "code",
      "metadata": {
        "id": "WNeq-iD5fcO-"
      },
      "source": [
        "lista = [10, 20, 30, 40, 50, 60, 70, 80, 90, 100]"
      ],
      "execution_count": 27,
      "outputs": []
    },
    {
      "cell_type": "code",
      "metadata": {
        "id": "4FWqkb28fcH5",
        "colab": {
          "base_uri": "https://localhost:8080/"
        },
        "outputId": "cbb1f0ab-6ee0-41b6-e73a-787c35cb840c"
      },
      "source": [
        "len(lista)"
      ],
      "execution_count": 28,
      "outputs": [
        {
          "output_type": "execute_result",
          "data": {
            "text/plain": [
              "10"
            ]
          },
          "metadata": {},
          "execution_count": 28
        }
      ]
    },
    {
      "cell_type": "code",
      "metadata": {
        "id": "ErKV_youfb_m"
      },
      "source": [
        "lista.append(110)"
      ],
      "execution_count": 29,
      "outputs": []
    },
    {
      "cell_type": "code",
      "metadata": {
        "id": "-WBaWqlnjl2r",
        "colab": {
          "base_uri": "https://localhost:8080/"
        },
        "outputId": "20de871e-7101-42f4-ee4b-5579f4466bae"
      },
      "source": [
        "lista"
      ],
      "execution_count": 30,
      "outputs": [
        {
          "output_type": "execute_result",
          "data": {
            "text/plain": [
              "[10, 20, 30, 40, 50, 60, 70, 80, 90, 100, 110]"
            ]
          },
          "metadata": {},
          "execution_count": 30
        }
      ]
    },
    {
      "cell_type": "code",
      "metadata": {
        "id": "ZkXyTVJ1jlmA"
      },
      "source": [
        "lista.insert(5, -100)"
      ],
      "execution_count": 31,
      "outputs": []
    },
    {
      "cell_type": "code",
      "metadata": {
        "id": "HogGRKlAjlkH",
        "colab": {
          "base_uri": "https://localhost:8080/"
        },
        "outputId": "500baa2b-fab8-43aa-f4d9-45317674c2dd"
      },
      "source": [
        "lista"
      ],
      "execution_count": 32,
      "outputs": [
        {
          "output_type": "execute_result",
          "data": {
            "text/plain": [
              "[10, 20, 30, 40, 50, -100, 60, 70, 80, 90, 100, 110]"
            ]
          },
          "metadata": {},
          "execution_count": 32
        }
      ]
    },
    {
      "cell_type": "code",
      "metadata": {
        "id": "vVsoXFFTjlc2"
      },
      "source": [
        "lista = [10, 20, 30, 40, 50, 60, 70, 80, 90, 100]"
      ],
      "execution_count": 33,
      "outputs": []
    },
    {
      "cell_type": "code",
      "metadata": {
        "id": "Jzyfg3jtjlWP",
        "colab": {
          "base_uri": "https://localhost:8080/"
        },
        "outputId": "3876ae98-8fd2-4f26-f207-a8150547e09a"
      },
      "source": [
        "lista.pop(5)"
      ],
      "execution_count": 34,
      "outputs": [
        {
          "output_type": "execute_result",
          "data": {
            "text/plain": [
              "60"
            ]
          },
          "metadata": {},
          "execution_count": 34
        }
      ]
    },
    {
      "cell_type": "code",
      "metadata": {
        "id": "qhDFo9X9jlMG"
      },
      "source": [
        "a = lista.pop(4)"
      ],
      "execution_count": 35,
      "outputs": []
    },
    {
      "cell_type": "code",
      "metadata": {
        "id": "SUz3AOUsZ5dn",
        "colab": {
          "base_uri": "https://localhost:8080/"
        },
        "outputId": "d813a928-843f-4f13-8ae6-3dc328aa8998"
      },
      "source": [
        "a\n"
      ],
      "execution_count": 36,
      "outputs": [
        {
          "output_type": "execute_result",
          "data": {
            "text/plain": [
              "50"
            ]
          },
          "metadata": {},
          "execution_count": 36
        }
      ]
    },
    {
      "cell_type": "code",
      "metadata": {
        "id": "oRt8ECAFsy3X",
        "colab": {
          "base_uri": "https://localhost:8080/"
        },
        "outputId": "7b9a2fa4-09e1-4198-b264-db083c955447"
      },
      "source": [
        "lista"
      ],
      "execution_count": 37,
      "outputs": [
        {
          "output_type": "execute_result",
          "data": {
            "text/plain": [
              "[10, 20, 30, 40, 70, 80, 90, 100]"
            ]
          },
          "metadata": {},
          "execution_count": 37
        }
      ]
    },
    {
      "cell_type": "code",
      "metadata": {
        "id": "KjQedWJLZ5do"
      },
      "source": [
        "lista.remove(70)"
      ],
      "execution_count": 38,
      "outputs": []
    },
    {
      "cell_type": "code",
      "metadata": {
        "id": "NRuMhy19Z5do",
        "colab": {
          "base_uri": "https://localhost:8080/"
        },
        "outputId": "a2f8cbca-2456-4a7a-f872-32b0c246a6a0"
      },
      "source": [
        "lista"
      ],
      "execution_count": 39,
      "outputs": [
        {
          "output_type": "execute_result",
          "data": {
            "text/plain": [
              "[10, 20, 30, 40, 80, 90, 100]"
            ]
          },
          "metadata": {},
          "execution_count": 39
        }
      ]
    },
    {
      "cell_type": "markdown",
      "metadata": {
        "id": "UY690em-Z5dp"
      },
      "source": [
        "# Ordenar y reemplazar elementos"
      ]
    },
    {
      "cell_type": "code",
      "metadata": {
        "id": "DEFJ5SVSZ5dq"
      },
      "source": [
        "lista = [40, 50, 12, 14, 98, 34, -20]"
      ],
      "execution_count": 40,
      "outputs": []
    },
    {
      "cell_type": "code",
      "metadata": {
        "id": "-WV71awJpAG7"
      },
      "source": [
        "lista.reverse()"
      ],
      "execution_count": 41,
      "outputs": []
    },
    {
      "cell_type": "code",
      "metadata": {
        "id": "4Lrr4nFLo_hz",
        "colab": {
          "base_uri": "https://localhost:8080/"
        },
        "outputId": "7229e9f5-dc2d-472a-811f-dce75501af17"
      },
      "source": [
        "lista"
      ],
      "execution_count": 42,
      "outputs": [
        {
          "output_type": "execute_result",
          "data": {
            "text/plain": [
              "[-20, 34, 98, 14, 12, 50, 40]"
            ]
          },
          "metadata": {},
          "execution_count": 42
        }
      ]
    },
    {
      "cell_type": "code",
      "metadata": {
        "id": "aYFxSlPtZ5dq"
      },
      "source": [
        "lista[2] = -12"
      ],
      "execution_count": 43,
      "outputs": []
    },
    {
      "cell_type": "code",
      "metadata": {
        "id": "vropajp2Z5dr",
        "colab": {
          "base_uri": "https://localhost:8080/"
        },
        "outputId": "41889df1-26a5-42a6-afd6-1e2c4dccc6e1"
      },
      "source": [
        "lista"
      ],
      "execution_count": 44,
      "outputs": [
        {
          "output_type": "execute_result",
          "data": {
            "text/plain": [
              "[-20, 34, -12, 14, 12, 50, 40]"
            ]
          },
          "metadata": {},
          "execution_count": 44
        }
      ]
    },
    {
      "cell_type": "code",
      "metadata": {
        "id": "2jKqq2zwZ5ds"
      },
      "source": [
        "lista.sort()"
      ],
      "execution_count": 45,
      "outputs": []
    },
    {
      "cell_type": "code",
      "metadata": {
        "id": "lqI3vdGtZ5dt",
        "colab": {
          "base_uri": "https://localhost:8080/"
        },
        "outputId": "d3cc862c-a171-4d36-96f8-61ad850632f9"
      },
      "source": [
        "lista"
      ],
      "execution_count": 46,
      "outputs": [
        {
          "output_type": "execute_result",
          "data": {
            "text/plain": [
              "[-20, -12, 12, 14, 34, 40, 50]"
            ]
          },
          "metadata": {},
          "execution_count": 46
        }
      ]
    },
    {
      "cell_type": "code",
      "metadata": {
        "id": "GSOie0U6Z5dt"
      },
      "source": [
        "lista.reverse()"
      ],
      "execution_count": 48,
      "outputs": []
    },
    {
      "cell_type": "code",
      "metadata": {
        "id": "qvMsVlgQZ5du",
        "colab": {
          "base_uri": "https://localhost:8080/"
        },
        "outputId": "a48a49a4-f952-46c2-9606-43d464fb6834"
      },
      "source": [
        "lista"
      ],
      "execution_count": 49,
      "outputs": [
        {
          "output_type": "execute_result",
          "data": {
            "text/plain": [
              "[-20, -12, 12, 14, 34, 40, 50]"
            ]
          },
          "metadata": {},
          "execution_count": 49
        }
      ]
    },
    {
      "cell_type": "markdown",
      "metadata": {
        "id": "3dMOBFBiZ5dv"
      },
      "source": [
        "# sum, min, max"
      ]
    },
    {
      "cell_type": "code",
      "metadata": {
        "id": "3zs3eXnjZ5dw"
      },
      "source": [
        "lista = [40, 50, 12, 14, 98, 34, -20]"
      ],
      "execution_count": 50,
      "outputs": []
    },
    {
      "cell_type": "code",
      "metadata": {
        "id": "96YC-ImSZ5dw",
        "colab": {
          "base_uri": "https://localhost:8080/"
        },
        "outputId": "3d918805-29fb-4d4a-c2d3-36c6a967dfdb"
      },
      "source": [
        "sum(lista)"
      ],
      "execution_count": 51,
      "outputs": [
        {
          "output_type": "execute_result",
          "data": {
            "text/plain": [
              "228"
            ]
          },
          "metadata": {},
          "execution_count": 51
        }
      ]
    },
    {
      "cell_type": "code",
      "metadata": {
        "id": "yom5ztHHZ5dy",
        "colab": {
          "base_uri": "https://localhost:8080/"
        },
        "outputId": "6eca02e3-f55c-468c-9aac-ba918961a948"
      },
      "source": [
        "min(lista)"
      ],
      "execution_count": 52,
      "outputs": [
        {
          "output_type": "execute_result",
          "data": {
            "text/plain": [
              "-20"
            ]
          },
          "metadata": {},
          "execution_count": 52
        }
      ]
    },
    {
      "cell_type": "code",
      "metadata": {
        "id": "fe4Y6aVsprVx",
        "colab": {
          "base_uri": "https://localhost:8080/"
        },
        "outputId": "7aeba18b-32f1-4978-d5a8-bd285439fd1c"
      },
      "source": [
        "max(lista)"
      ],
      "execution_count": 53,
      "outputs": [
        {
          "output_type": "execute_result",
          "data": {
            "text/plain": [
              "98"
            ]
          },
          "metadata": {},
          "execution_count": 53
        }
      ]
    },
    {
      "cell_type": "markdown",
      "metadata": {
        "id": "_yUVK-BxprTY"
      },
      "source": [
        "# Listas y strings"
      ]
    },
    {
      "cell_type": "code",
      "metadata": {
        "id": "nr9y4scGprMM"
      },
      "source": [
        "lista = [40, 50, 12, 14, 98, 34, -20]"
      ],
      "execution_count": null,
      "outputs": []
    },
    {
      "cell_type": "code",
      "metadata": {
        "id": "V0_ZLmInprAe"
      },
      "source": [
        "saludo = \"Hola, Manuel, mucho gusto\""
      ],
      "execution_count": null,
      "outputs": []
    },
    {
      "cell_type": "code",
      "metadata": {
        "id": "3T5q3slxqM3a"
      },
      "source": [
        "lista[3]"
      ],
      "execution_count": null,
      "outputs": []
    },
    {
      "cell_type": "code",
      "metadata": {
        "id": "jIIywT6Vq-9Q"
      },
      "source": [
        "saludo[3]"
      ],
      "execution_count": null,
      "outputs": []
    },
    {
      "cell_type": "code",
      "metadata": {
        "id": "J04vqO2Iq-7C"
      },
      "source": [
        "saludo[6:12]"
      ],
      "execution_count": null,
      "outputs": []
    },
    {
      "cell_type": "markdown",
      "metadata": {
        "id": "lbLtwDy2q-0u"
      },
      "source": [
        "# Listas y strings: Mutabilidad"
      ]
    },
    {
      "cell_type": "code",
      "metadata": {
        "id": "s6jwRPSCq-yn"
      },
      "source": [
        "lista = [40, 50, 12, 14, 98, 34, -20]\n",
        "saludo = \"Hola, Manuel, mucho gusto\""
      ],
      "execution_count": null,
      "outputs": []
    },
    {
      "cell_type": "code",
      "metadata": {
        "id": "Sd1t97uWruzr"
      },
      "source": [
        "lista[4] = 12345"
      ],
      "execution_count": null,
      "outputs": []
    },
    {
      "cell_type": "code",
      "metadata": {
        "id": "8-YqcdlVrurp"
      },
      "source": [
        "lista"
      ],
      "execution_count": null,
      "outputs": []
    },
    {
      "cell_type": "code",
      "metadata": {
        "id": "j7tzmb1GrupC"
      },
      "source": [
        "saludo[4] = \"F\""
      ],
      "execution_count": null,
      "outputs": []
    }
  ]
}