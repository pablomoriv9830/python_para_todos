{
  "nbformat": 4,
  "nbformat_minor": 0,
  "metadata": {
    "colab": {
      "provenance": [],
      "authorship_tag": "ABX9TyPUBcZVlgQ6iIXym+Wf1sRz",
      "include_colab_link": true
    },
    "kernelspec": {
      "name": "python3",
      "display_name": "Python 3"
    },
    "language_info": {
      "name": "python"
    }
  },
  "cells": [
    {
      "cell_type": "markdown",
      "metadata": {
        "id": "view-in-github",
        "colab_type": "text"
      },
      "source": [
        "<a href=\"https://colab.research.google.com/github/pablomoriv9830/python_para_todos/blob/main/diccionarios.ipynb\" target=\"_parent\"><img src=\"https://colab.research.google.com/assets/colab-badge.svg\" alt=\"Open In Colab\"/></a>"
      ]
    },
    {
      "cell_type": "markdown",
      "source": [
        "# Datahack: Diccionarios"
      ],
      "metadata": {
        "id": "lf1XAIJG64GC"
      }
    },
    {
      "cell_type": "code",
      "source": [
        "facebook = {\n",
        "            \"founder\": [\"Mark Zuckerberg\", \"Eduardo Saverin\"],\n",
        "            \"year\": 2004,\n",
        "            \"dominio\" : \"https://www.facebook.com\"\n",
        "            }"
      ],
      "metadata": {
        "id": "PrSWzLlY8TjA"
      },
      "execution_count": 5,
      "outputs": []
    },
    {
      "cell_type": "code",
      "source": [
        "facebook"
      ],
      "metadata": {
        "colab": {
          "base_uri": "https://localhost:8080/"
        },
        "id": "9tLWwkZO839T",
        "outputId": "e2aedd5a-b2ff-4729-c67e-601c27b40cf5"
      },
      "execution_count": 6,
      "outputs": [
        {
          "output_type": "execute_result",
          "data": {
            "text/plain": [
              "{'founder': ['Mark Zuckerberg', 'Eduardo Saverin'],\n",
              " 'year': 2004,\n",
              " 'dominio': 'https://www.facebook.com'}"
            ]
          },
          "metadata": {},
          "execution_count": 6
        }
      ]
    },
    {
      "cell_type": "code",
      "source": [
        "facebook[\"founder\"]"
      ],
      "metadata": {
        "colab": {
          "base_uri": "https://localhost:8080/"
        },
        "id": "pd_elhBp84z5",
        "outputId": "a257f3bf-9702-4ce5-a18c-9b692ec6fe38"
      },
      "execution_count": 7,
      "outputs": [
        {
          "output_type": "execute_result",
          "data": {
            "text/plain": [
              "['Mark Zuckerberg', 'Eduardo Saverin']"
            ]
          },
          "metadata": {},
          "execution_count": 7
        }
      ]
    },
    {
      "cell_type": "code",
      "source": [
        "facebook[\"founder\"][1]"
      ],
      "metadata": {
        "colab": {
          "base_uri": "https://localhost:8080/",
          "height": 35
        },
        "id": "eUMZmAkN9Aj7",
        "outputId": "bdea3332-2a2a-485b-b492-dbfe9d454112"
      },
      "execution_count": 8,
      "outputs": [
        {
          "output_type": "execute_result",
          "data": {
            "text/plain": [
              "'Eduardo Saverin'"
            ],
            "application/vnd.google.colaboratory.intrinsic+json": {
              "type": "string"
            }
          },
          "metadata": {},
          "execution_count": 8
        }
      ]
    },
    {
      "cell_type": "code",
      "source": [
        "facebook[\"dominio\"]"
      ],
      "metadata": {
        "colab": {
          "base_uri": "https://localhost:8080/",
          "height": 35
        },
        "id": "koBFXQag9C7u",
        "outputId": "1a8c3493-703e-4365-cbca-a1fe6ab7fc25"
      },
      "execution_count": 9,
      "outputs": [
        {
          "output_type": "execute_result",
          "data": {
            "text/plain": [
              "'https://www.facebook.com'"
            ],
            "application/vnd.google.colaboratory.intrinsic+json": {
              "type": "string"
            }
          },
          "metadata": {},
          "execution_count": 9
        }
      ]
    },
    {
      "cell_type": "code",
      "source": [
        "facebook[\"stock_price\"] # Esto dara un key error por no estar definida"
      ],
      "metadata": {
        "colab": {
          "base_uri": "https://localhost:8080/",
          "height": 141
        },
        "id": "K9_guD8q9I-d",
        "outputId": "d2326305-25d6-427d-f043-62d223569322"
      },
      "execution_count": 10,
      "outputs": [
        {
          "output_type": "error",
          "ename": "KeyError",
          "evalue": "'stock_price'",
          "traceback": [
            "\u001b[0;31m---------------------------------------------------------------------------\u001b[0m",
            "\u001b[0;31mKeyError\u001b[0m                                  Traceback (most recent call last)",
            "\u001b[0;32m/tmp/ipython-input-1320597751.py\u001b[0m in \u001b[0;36m<cell line: 0>\u001b[0;34m()\u001b[0m\n\u001b[0;32m----> 1\u001b[0;31m \u001b[0mfacebook\u001b[0m\u001b[0;34m[\u001b[0m\u001b[0;34m\"stock_price\"\u001b[0m\u001b[0;34m]\u001b[0m \u001b[0;31m# Esto dara un key error por no estar definida\u001b[0m\u001b[0;34m\u001b[0m\u001b[0;34m\u001b[0m\u001b[0m\n\u001b[0m",
            "\u001b[0;31mKeyError\u001b[0m: 'stock_price'"
          ]
        }
      ]
    },
    {
      "cell_type": "code",
      "source": [
        "facebook.get(\"founder\")"
      ],
      "metadata": {
        "colab": {
          "base_uri": "https://localhost:8080/"
        },
        "id": "_a4BFuaz_vYG",
        "outputId": "5780b0ca-8761-4041-8334-ea04947f609e"
      },
      "execution_count": 11,
      "outputs": [
        {
          "output_type": "execute_result",
          "data": {
            "text/plain": [
              "['Mark Zuckerberg', 'Eduardo Saverin']"
            ]
          },
          "metadata": {},
          "execution_count": 11
        }
      ]
    },
    {
      "cell_type": "code",
      "source": [
        "facebook.get(\"stock_price\", 0) # Este método devuelve el segundo valor en caso de no estar la llave solicitada"
      ],
      "metadata": {
        "colab": {
          "base_uri": "https://localhost:8080/"
        },
        "id": "18BQA5e4_1GT",
        "outputId": "65919f7d-2f81-4909-bc0f-f28e255ffd06"
      },
      "execution_count": 13,
      "outputs": [
        {
          "output_type": "execute_result",
          "data": {
            "text/plain": [
              "0"
            ]
          },
          "metadata": {},
          "execution_count": 13
        }
      ]
    },
    {
      "cell_type": "markdown",
      "source": [
        "## Eliminar y actualizar"
      ],
      "metadata": {
        "id": "m2VlJElrAgkw"
      }
    },
    {
      "cell_type": "code",
      "source": [
        "facebook = {\n",
        "            \"founder\": [\"Mark Zuckerberg\", \"Eduardo Saverin\"],\n",
        "            \"year\": 2004,\n",
        "            \"dominio\" : \"https://www.facebook.com\"\n",
        "            }"
      ],
      "metadata": {
        "id": "qrjDrd_Q__Hj"
      },
      "execution_count": 18,
      "outputs": []
    },
    {
      "cell_type": "code",
      "source": [
        "facebook[\"stock_price\"] = 250"
      ],
      "metadata": {
        "id": "_LPtt3ULAoZP"
      },
      "execution_count": 19,
      "outputs": []
    },
    {
      "cell_type": "code",
      "source": [
        "facebook"
      ],
      "metadata": {
        "colab": {
          "base_uri": "https://localhost:8080/"
        },
        "id": "ngKeqWu8AtcU",
        "outputId": "b48b63e5-1efc-4592-faa4-92805da9c707"
      },
      "execution_count": 20,
      "outputs": [
        {
          "output_type": "execute_result",
          "data": {
            "text/plain": [
              "{'founder': ['Mark Zuckerberg', 'Eduardo Saverin'],\n",
              " 'year': 2004,\n",
              " 'dominio': 'https://www.facebook.com',\n",
              " 'stock_price': 250}"
            ]
          },
          "metadata": {},
          "execution_count": 20
        }
      ]
    },
    {
      "cell_type": "code",
      "source": [
        "facebook_year = facebook.pop(\"year\")\n",
        "facebook"
      ],
      "metadata": {
        "colab": {
          "base_uri": "https://localhost:8080/"
        },
        "id": "pg4iXyNrAuT-",
        "outputId": "63578ae0-2237-42f6-f9c5-32037bdd30bc"
      },
      "execution_count": 21,
      "outputs": [
        {
          "output_type": "execute_result",
          "data": {
            "text/plain": [
              "{'founder': ['Mark Zuckerberg', 'Eduardo Saverin'],\n",
              " 'dominio': 'https://www.facebook.com',\n",
              " 'stock_price': 250}"
            ]
          },
          "metadata": {},
          "execution_count": 21
        }
      ]
    },
    {
      "cell_type": "code",
      "source": [
        "facebook_year"
      ],
      "metadata": {
        "colab": {
          "base_uri": "https://localhost:8080/"
        },
        "id": "Ao4PuPpTA77J",
        "outputId": "51b00381-cd8b-4fde-81dc-809157da6789"
      },
      "execution_count": 22,
      "outputs": [
        {
          "output_type": "execute_result",
          "data": {
            "text/plain": [
              "2004"
            ]
          },
          "metadata": {},
          "execution_count": 22
        }
      ]
    },
    {
      "cell_type": "code",
      "source": [
        "facebook[\"founder\"] = \"Mark Zuckerberg\"\n",
        "facebook"
      ],
      "metadata": {
        "colab": {
          "base_uri": "https://localhost:8080/"
        },
        "id": "0tTJUzX4BJmD",
        "outputId": "3e1ae478-e860-40dc-bf7f-91fd17fd5d59"
      },
      "execution_count": 23,
      "outputs": [
        {
          "output_type": "execute_result",
          "data": {
            "text/plain": [
              "{'founder': 'Mark Zuckerberg',\n",
              " 'dominio': 'https://www.facebook.com',\n",
              " 'stock_price': 250}"
            ]
          },
          "metadata": {},
          "execution_count": 23
        }
      ]
    },
    {
      "cell_type": "markdown",
      "source": [
        "## Keys, values e items"
      ],
      "metadata": {
        "id": "Ia0tYk62BVy8"
      }
    },
    {
      "cell_type": "code",
      "source": [
        "facebook = {\n",
        "            \"founder\": [\"Mark Zuckerberg\", \"Eduardo Saverin\"],\n",
        "            \"year\": 2004,\n",
        "            \"dominio\" : \"https://www.facebook.com\"\n",
        "}"
      ],
      "metadata": {
        "id": "4_-ngpyrBON1"
      },
      "execution_count": 27,
      "outputs": []
    },
    {
      "cell_type": "code",
      "source": [
        "facebook.keys()"
      ],
      "metadata": {
        "colab": {
          "base_uri": "https://localhost:8080/"
        },
        "id": "uP8LthCZBcik",
        "outputId": "c0d53826-96f8-4bea-c63e-4b5f3017b4d9"
      },
      "execution_count": 28,
      "outputs": [
        {
          "output_type": "execute_result",
          "data": {
            "text/plain": [
              "dict_keys(['founder', 'year', 'dominio'])"
            ]
          },
          "metadata": {},
          "execution_count": 28
        }
      ]
    },
    {
      "cell_type": "code",
      "source": [
        "keys_facebook = list(facebook.keys())\n",
        "keys_facebook"
      ],
      "metadata": {
        "colab": {
          "base_uri": "https://localhost:8080/"
        },
        "id": "0ZZHiQazBeRT",
        "outputId": "094f86ee-46e7-48b0-bc90-ecd5d6325670"
      },
      "execution_count": 29,
      "outputs": [
        {
          "output_type": "execute_result",
          "data": {
            "text/plain": [
              "['founder', 'year', 'dominio']"
            ]
          },
          "metadata": {},
          "execution_count": 29
        }
      ]
    },
    {
      "cell_type": "code",
      "source": [
        "facebook.values()"
      ],
      "metadata": {
        "colab": {
          "base_uri": "https://localhost:8080/"
        },
        "id": "nn1MyhbmBoou",
        "outputId": "6472028c-bb1a-4fac-9aec-355a38663339"
      },
      "execution_count": 30,
      "outputs": [
        {
          "output_type": "execute_result",
          "data": {
            "text/plain": [
              "dict_values([['Mark Zuckerberg', 'Eduardo Saverin'], 2004, 'https://www.facebook.com'])"
            ]
          },
          "metadata": {},
          "execution_count": 30
        }
      ]
    },
    {
      "cell_type": "code",
      "source": [
        "values_facebook = list(facebook.values())\n",
        "values_facebook"
      ],
      "metadata": {
        "colab": {
          "base_uri": "https://localhost:8080/"
        },
        "id": "Y_gjoaW3BsRd",
        "outputId": "42ab5dd4-7cf5-4200-c6e1-423d1f688a12"
      },
      "execution_count": 31,
      "outputs": [
        {
          "output_type": "execute_result",
          "data": {
            "text/plain": [
              "[['Mark Zuckerberg', 'Eduardo Saverin'], 2004, 'https://www.facebook.com']"
            ]
          },
          "metadata": {},
          "execution_count": 31
        }
      ]
    },
    {
      "cell_type": "code",
      "source": [
        "facebook.items()"
      ],
      "metadata": {
        "colab": {
          "base_uri": "https://localhost:8080/"
        },
        "id": "2a5SHVpEB0Ii",
        "outputId": "66985afc-2b5a-4811-faed-2913e49ce657"
      },
      "execution_count": 32,
      "outputs": [
        {
          "output_type": "execute_result",
          "data": {
            "text/plain": [
              "dict_items([('founder', ['Mark Zuckerberg', 'Eduardo Saverin']), ('year', 2004), ('dominio', 'https://www.facebook.com')])"
            ]
          },
          "metadata": {},
          "execution_count": 32
        }
      ]
    },
    {
      "cell_type": "code",
      "source": [
        "facebook_items = list(facebook.items())\n",
        "facebook_items"
      ],
      "metadata": {
        "colab": {
          "base_uri": "https://localhost:8080/"
        },
        "id": "LV8Gy6G0B3FV",
        "outputId": "3a261d5e-4d2a-45f5-ff5a-b1f46456bd37"
      },
      "execution_count": 34,
      "outputs": [
        {
          "output_type": "execute_result",
          "data": {
            "text/plain": [
              "[('founder', ['Mark Zuckerberg', 'Eduardo Saverin']),\n",
              " ('year', 2004),\n",
              " ('dominio', 'https://www.facebook.com')]"
            ]
          },
          "metadata": {},
          "execution_count": 34
        }
      ]
    },
    {
      "cell_type": "markdown",
      "source": [
        "## Update"
      ],
      "metadata": {
        "id": "W0xJstzZDyiR"
      }
    },
    {
      "cell_type": "code",
      "source": [
        "facebook = {\"founder\": [\"Mark Zuckerberg\", \"Eduardo Saverin\"],\n",
        "            \"year\": 2004,\n",
        "            \"dominio\" : \"https://www.facebook.com\"}\n",
        "\n",
        "facebook_extra = {\"location\": \"Palo Alto\",\n",
        "                  \"users\": \"2.5 billion\"}"
      ],
      "metadata": {
        "id": "cxfG_BMAB9Y9"
      },
      "execution_count": 35,
      "outputs": []
    },
    {
      "cell_type": "code",
      "source": [
        "facebook.update(facebook_extra)"
      ],
      "metadata": {
        "id": "8VKEhbNsEOJk"
      },
      "execution_count": 36,
      "outputs": []
    },
    {
      "cell_type": "code",
      "source": [
        "facebook"
      ],
      "metadata": {
        "colab": {
          "base_uri": "https://localhost:8080/"
        },
        "id": "P31TI8XqERM0",
        "outputId": "516c44aa-e6c7-40c3-ce9c-4511983a8b1e"
      },
      "execution_count": 37,
      "outputs": [
        {
          "output_type": "execute_result",
          "data": {
            "text/plain": [
              "{'founder': ['Mark Zuckerberg', 'Eduardo Saverin'],\n",
              " 'year': 2004,\n",
              " 'dominio': 'https://www.facebook.com',\n",
              " 'location': 'Palo Alto',\n",
              " 'users': '2.5 billion'}"
            ]
          },
          "metadata": {},
          "execution_count": 37
        }
      ]
    },
    {
      "cell_type": "code",
      "source": [
        "facebook_extra = {\"founder\" : \"Mark Zuckerberg\",\n",
        "                  \"app\" : [\"android\", \"iOS\"]}\n",
        "\n",
        "facebook.update(facebook_extra)\n",
        "facebook"
      ],
      "metadata": {
        "colab": {
          "base_uri": "https://localhost:8080/"
        },
        "id": "RdoVSqkHESM4",
        "outputId": "b02990fa-1002-4b72-d0bd-d21278e1ad89"
      },
      "execution_count": 38,
      "outputs": [
        {
          "output_type": "execute_result",
          "data": {
            "text/plain": [
              "{'founder': 'Mark Zuckerberg',\n",
              " 'year': 2004,\n",
              " 'dominio': 'https://www.facebook.com',\n",
              " 'location': 'Palo Alto',\n",
              " 'users': '2.5 billion',\n",
              " 'app': ['android', 'iOS']}"
            ]
          },
          "metadata": {},
          "execution_count": 38
        }
      ]
    }
  ]
}